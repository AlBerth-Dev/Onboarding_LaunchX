{
  "cells": [
    {
      "cell_type": "markdown",
      "metadata": {},
      "source": [
        "# Katas 9 - Funciones"
      ]
    },
    {
      "cell_type": "markdown",
      "metadata": {},
      "source": [
        "## Ejercicio: Uso de funciones en Python"
      ]
    },
    {
      "cell_type": "markdown",
      "metadata": {},
      "source": [
        "### Ejercicio 1: Trabajar con argumentos en funciones\n",
        "\n",
        "Los argumentos requeridos en las funciones se utilizan cuando las funciones necesitan que esos argumentos funcionen correctamente. En este ejercicio, construirás un informe de combustible que requiere información de varias ubicaciones de combustible en todo el cohete.\n",
        "\n"
      ]
    },
    {
      "cell_type": "markdown",
      "metadata": {},
      "source": [
        "> **TIP**\n",
        "> Dedica unos minutos para tratar de encontrar una solución. Luego desplázate hacia abajo hasta la parte inferior para ver si has logrado compilar el programa de acuerdo con las especificaciones\n",
        "\n",
        "Comienza por crear una función que necesite tres lecturas de combustible y devuelva un informe:"
      ]
    },
    {
      "cell_type": "code",
      "execution_count": 1,
      "metadata": {},
      "outputs": [
        {
          "name": "stdout",
          "output_type": "stream",
          "text": [
            "Combustible tanque 1: 30\n",
            "    Combustible tanque 2: 150\n",
            "    Combustible tanque 3: 70\n",
            "    Cumbustible promedio: 83.33333333333333\n"
          ]
        }
      ],
      "source": [
        "# Función para leer 3 tanques de combustible y muestre el promedio\n",
        "def lectura_combustible(tanque1, tanque2, tanque3):\n",
        "    promedio = (tanque1+tanque2+tanque3)/3\n",
        "    text = f\"\"\"Combustible tanque 1: {tanque1}\n",
        "    Combustible tanque 2: {tanque2}\n",
        "    Combustible tanque 3: {tanque3}\n",
        "    Cumbustible promedio: {promedio}\"\"\"\n",
        "    return text\n",
        "print(lectura_combustible(30,150,70))\n"
      ]
    },
    {
      "cell_type": "markdown",
      "metadata": {},
      "source": [
        "Ahora que hemos definido la función de informes, vamos a comprobarlo. Para esta misión, los tanques no están llenos:"
      ]
    },
    {
      "cell_type": "code",
      "execution_count": 7,
      "metadata": {},
      "outputs": [
        {
          "name": "stdout",
          "output_type": "stream",
          "text": [
            "Combustible tanque 1: 30\n",
            "    Combustible tanque 2: 150\n",
            "    Combustible tanque 3: 70\n",
            "    Cumbustible promedio: 83.33333333333333\n"
          ]
        }
      ],
      "source": [
        "\n",
        "# Llamamos a la función que genera el reporte print(funcion(tanque1, tanque2, tanque3))\n",
        "print(lectura_combustible(30,150,70))"
      ]
    },
    {
      "cell_type": "markdown",
      "metadata": {},
      "source": [
        "En lugar de simplemente crear el informe, la función también está calculando el promedio. Mejora la legibilidad extrayendo el cálculo promedio de la función en una nueva función para que el promedio se pueda hacer de forma independiente:"
      ]
    },
    {
      "cell_type": "code",
      "execution_count": 10,
      "metadata": {},
      "outputs": [
        {
          "name": "stdout",
          "output_type": "stream",
          "text": [
            "5.0\n"
          ]
        }
      ],
      "source": [
        "# Función promedio \n",
        "def promedio(valores):\n",
        "    prom = 0\n",
        "    for valor in valores:\n",
        "        prom = prom + valor\n",
        "    prom = prom/len(valores)\n",
        "    return prom\n",
        "\n",
        "print(promedio([3,5,7]))"
      ]
    },
    {
      "cell_type": "markdown",
      "metadata": {},
      "source": [
        "Ahora actualiza la función de informes para llamando a la nueva función del promedio:\n"
      ]
    },
    {
      "cell_type": "code",
      "execution_count": 12,
      "metadata": {},
      "outputs": [
        {
          "name": "stdout",
          "output_type": "stream",
          "text": [
            "Combustible tanque 1: 30\n",
            "    Combustible tanque 2: 150\n",
            "    Combustible tanque 3: 70\n",
            "    Cumbustible promedio: 83.33333333333333\n"
          ]
        }
      ],
      "source": [
        "# Actualiza la función\n",
        "def lectura_combustible(tanque1, tanque2, tanque3):\n",
        "    prom = promedio([tanque1,tanque2,tanque3])\n",
        "    text = f\"\"\"Combustible tanque 1: {tanque1}\n",
        "    Combustible tanque 2: {tanque2}\n",
        "    Combustible tanque 3: {tanque3}\n",
        "    Cumbustible promedio: {prom}\"\"\"\n",
        "    return text\n",
        "\n",
        "print(lectura_combustible(30,150,70))"
      ]
    },
    {
      "cell_type": "markdown",
      "metadata": {},
      "source": [
        "> Recuerda: Lo importante es intentarlo, puedes auxiliarte de internet, libros, etc. El objetivo de una kata es la comprobación de la comprensión de la lección y su aplicación inmediata a la resolución de problemas. Go for it!"
      ]
    },
    {
      "cell_type": "markdown",
      "metadata": {},
      "source": [
        "## Ejercicio 2: Trabajo con argumentos de palabra clave"
      ]
    },
    {
      "cell_type": "markdown",
      "metadata": {},
      "source": [
        "### Ejercicio : Trabajar con argumentos de palabras clave en funciones\n",
        "En este ejercicio, construirás un informe de cohete que requiere varias piezas de información, como el tiempo hasta el destino, el combustible a la izquierda y el nombre del destino. Comienza por crear una función que creará un informe preciso de la misión:"
      ]
    },
    {
      "cell_type": "code",
      "execution_count": 16,
      "metadata": {},
      "outputs": [
        {
          "name": "stdout",
          "output_type": "stream",
          "text": [
            "INFORME DEL LANZAMIENTO\n",
            "    ******************************\n",
            "    Hora de prelanzamiento: 20 hrs.\n",
            "    Tiempo de vuelo estimado: 36 horas.\n",
            "    Destino: Mars.\n",
            "    Combustible disponible: 4500 litros.\n",
            "    \n"
          ]
        }
      ],
      "source": [
        "# Función con un informe preciso de la misión. Considera hora de prelanzamiento, tiempo de vuelo, destino, tanque externo y tanque interno\n",
        "def launchX(hora_prelanzamiento, t_vuelo, destino, tanque_externo, tanque_interno):\n",
        "    LINEA= '*'*30\n",
        "    ret = f\"\"\"INFORME DEL LANZAMIENTO\n",
        "    {LINEA}\n",
        "    Hora de prelanzamiento: {hora_prelanzamiento} hrs.\n",
        "    Tiempo de vuelo estimado: {t_vuelo} horas.\n",
        "    Destino: {destino}.\n",
        "    Combustible disponible: {tanque_externo+tanque_interno} litros.\n",
        "    \"\"\"\n",
        "    return ret\n",
        "\n",
        "print(launchX(20, 36, \"Mars\", 1500,3000))"
      ]
    },
    {
      "cell_type": "markdown",
      "metadata": {},
      "source": [
        "La función es problemática porque no se puede adaptar para minutos adicionales o tanques adicionales de combustible. Hazlo más flexible permitiendo cualquier número de pasos basados en el tiempo y cualquier número de tanques. En lugar de usar `*args` y `**kwargs`, aprovecha el hecho de que puedes usar cualquier nombre que desees. Asegurate que la función sea más legible mediante el uso de nombres de variables que están asociados con las entradas, como `*minutes` y `**fuel_reservoirs`:"
      ]
    },
    {
      "cell_type": "code",
      "execution_count": 22,
      "metadata": {},
      "outputs": [
        {
          "name": "stdout",
          "output_type": "stream",
          "text": [
            "INFORME DEL LANZAMIENTO\n",
            "    ******************************\n",
            "    Hora de prelanzamiento: 20 hrs.\n",
            "    Tiempo de vuelo estimado(TOTAL): 71 horas.\n",
            "    Destino: Mars.\n",
            "    Combustible disponible: 14500 litros.\n",
            "    \n"
          ]
        }
      ],
      "source": [
        "# Escribe tu nueva función de reporte considerando lo anterior\n",
        "def launchX(hora_prelanzamiento, destino, *tiempos_vuelo, **tanques_comb):\n",
        "    LINEA= '*'*30\n",
        "    ret = f\"\"\"INFORME DEL LANZAMIENTO\n",
        "    {LINEA}\n",
        "    Hora de prelanzamiento: {hora_prelanzamiento} hrs.\n",
        "    Tiempo de vuelo estimado(TOTAL): {sum(tiempos_vuelo)} horas.\n",
        "    Destino: {destino}.\n",
        "    Combustible disponible: {sum(tanques_comb.values())} litros.\n",
        "    \"\"\"\n",
        "    return ret\n",
        "\n",
        "print(launchX(20, \"Mars\", 36,10,5,20, t_Interno=1500, t_Externo= 3000, t_reserva = 10000))\n"
      ]
    },
    {
      "cell_type": "markdown",
      "metadata": {},
      "source": [
        "Debido a que el combustible que queda en los tanques es específico de cada tanque, actualiza la función para usar el nombre de cada tanque en el informe:"
      ]
    },
    {
      "cell_type": "code",
      "execution_count": 51,
      "metadata": {},
      "outputs": [
        {
          "name": "stdout",
          "output_type": "stream",
          "text": [
            "\n",
            "    INFORME DEL LANZAMIENTO\n",
            "    ******************************\n",
            "    Hora de prelanzamiento: 20 hrs.\n",
            "    Tiempo de vuelo estimado(TOTAL): 71 horas.\n",
            "    Destino: Mars.\n",
            "    Combustible disponible: 14500 litros.\n",
            "    --------------------\n",
            "    \t-> Tanque Interno = 1500\n",
            "\t-> Tanque Externo = 3000\n",
            "\t-> Tanque Reserva = 10000\n",
            "\n"
          ]
        }
      ],
      "source": [
        "# Escribe tu nueva función\n",
        "def launchX(hora_prelanzamiento, destino, *tiempos_vuelo, **tanques_comb):\n",
        "    linea= '*'*30\n",
        "    linea2 = '-'*20\n",
        "    ret = f\"\"\"\n",
        "    INFORME DEL LANZAMIENTO\n",
        "    {linea}\n",
        "    Hora de prelanzamiento: {hora_prelanzamiento} hrs.\n",
        "    Tiempo de vuelo estimado(TOTAL): {sum(tiempos_vuelo)} horas.\n",
        "    Destino: {destino}.\n",
        "    Combustible disponible: {sum(tanques_comb.values())} litros.\n",
        "    {linea2}\n",
        "    \"\"\"\n",
        "    #combRep = ''\n",
        "    for nombre,tank in tanques_comb.items():\n",
        "        #combRep += f\"\"\"\n",
        "        ret += f\"\"\"\\t-> Tanque {nombre} = {tank}\\n\"\"\"\n",
        "    \n",
        "    #ret += combRep\n",
        "    # print(tanques_comb.items())\n",
        "    # print(tanques_comb.values())\n",
        "    # print( tanques_comb.values())\n",
        "    return ret\n",
        "\n",
        "print(launchX(20, \"Mars\", 36,10,5,20, Interno=1500, Externo=3000, Reserva=10000))"
      ]
    }
  ],
  "metadata": {
    "interpreter": {
      "hash": "205095b8b86ea82a021a8fc2ffba2b3bc9f8d0be25999901963b225939f75778"
    },
    "kernelspec": {
      "display_name": "Python 3.8.10 64-bit ('tmp': conda)",
      "name": "python3"
    },
    "language_info": {
      "codemirror_mode": {
        "name": "ipython",
        "version": 3
      },
      "file_extension": ".py",
      "mimetype": "text/x-python",
      "name": "python",
      "nbconvert_exporter": "python",
      "pygments_lexer": "ipython3",
      "version": "3.10.2"
    },
    "nteract": {
      "version": "nteract-front-end@1.0.0"
    },
    "orig_nbformat": 4
  },
  "nbformat": 4,
  "nbformat_minor": 2
}
