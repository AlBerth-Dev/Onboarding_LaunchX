{
 "cells": [
  {
   "cell_type": "markdown",
   "metadata": {},
   "source": [
    "# Katas 3 - Usar lógica Booleana"
   ]
  },
  {
   "cell_type": "markdown",
   "metadata": {},
   "source": [
    "### Ejercicio1\n",
    "Un asteroide se acerca al a Tierra??\n",
    "Para este ejercicio, escribirás una lógica condicional que imprima una advertencia si un asteroide se acerca a la Tierra demasiado rápido. La velocidad del asteroide varía dependiendo de lo cerca que esté del sol, y cualquier velocidad superior a 25 kilómetros por segundo (km/s) merece una advertencia.\n",
    "\n",
    "Un asteroide se acerca, y viaja a una velocidad de 49 km/s"
   ]
  },
  {
   "cell_type": "code",
   "execution_count": null,
   "metadata": {},
   "outputs": [],
   "source": [
    "# Añadir el código necesario para crear una variable que guarde la velocidad del asteroide.\n",
    "# Escribe una expresión de prueba para calcular si necesita una advertencia.\n",
    "# Agregue las instrucciones que se ejecutarán si la expresión de prueba es true o false."
   ]
  },
  {
   "cell_type": "code",
   "execution_count": 9,
   "metadata": {},
   "outputs": [
    {
     "name": "stdout",
     "output_type": "stream",
     "text": [
      "ALERTA!!! potencial colisión con el asteroide\n"
     ]
    }
   ],
   "source": [
    "velAsteroide = 49 #km/s\n",
    "\n",
    "if velAsteroide >= 25:\n",
    "    # El asteroide se acerca demasiado rápido\n",
    "    print(\"ALERTA!!! potencial colisión con el asteroide\")\n",
    "else:\n",
    "        print(\"No hay riesgo de colisión :)\")"
   ]
  },
  {
   "cell_type": "markdown",
   "metadata": {},
   "source": [
    "### Ejercicio 2"
   ]
  },
  {
   "cell_type": "markdown",
   "metadata": {},
   "source": [
    "Si un asteroide entra en la atmósfera de la Tierra a una velocidad mayor o igual a 20 km/s, a veces produce un rayo de luz que se puede ver desde la Tierra. Escribe la lógica condicional que usa declaraciones if, else, y elif para alertar a las personas de todo el mundo que deben buscar un asteroide en el cielo. ¡Hay uno que se dirige a la tierra ahora a una velocidad de 19 km/s!"
   ]
  },
  {
   "cell_type": "code",
   "execution_count": 4,
   "metadata": {},
   "outputs": [],
   "source": [
    "# Agrega el código para crear una variable para un asteroide que viaja a 19 km/s\n",
    "# Escribe varias expresiones de prueba para determinar si puedes ver el rayo de luz desde la tierra\n",
    "# Agrega las instrucciones que se ejecutarán si las expresiones de prueba son True o False"
   ]
  },
  {
   "cell_type": "code",
   "execution_count": 14,
   "metadata": {},
   "outputs": [
    {
     "name": "stdout",
     "output_type": "stream",
     "text": [
      "Ni lo intentes bro..., no podrás ver nada :(\n"
     ]
    }
   ],
   "source": [
    "velAsteroide = 19 # km/s\n",
    "hayRayo = True\n",
    "if velAsteroide < 20:\n",
    "    print(\"Ni lo intentes bro..., no podrás ver nada :(\")\n",
    "elif velAsteroide ==20:\n",
    "    print(\"Mmm... Posiblemente veas algo en el cielo :|\")\n",
    "else:\n",
    "    print(\"Yeih... Puedes ver el asteroide en el cielo :D\")\n"
   ]
  },
  {
   "cell_type": "markdown",
   "metadata": {},
   "source": [
    "### Ejercicio 3 - and y or\n",
    "*Los asteroides de menos de 25 metros en su dimensión más grande probablemente se quemarán a medida que entren en la atmósfera de la Tierra.\n",
    "\n",
    "Si una pieza de un asteroide que es más grande que 25 metros pero más pequeña que 1000 metros golpeara la Tierra, causaría mucho daño."
   ]
  },
  {
   "cell_type": "markdown",
   "metadata": {},
   "source": [
    "Usando toda esta información y la información anterior, escribe un programa que emita la advertencia o información correcta a la gente de la Tierra, según la velocidad y el tamaño de un asteroide. Utiliza instrucciones if, else, y elif, así como los operadores and y or."
   ]
  },
  {
   "cell_type": "code",
   "execution_count": 15,
   "metadata": {},
   "outputs": [],
   "source": [
    "# Agrega el código para crear nuevas variables para la velocidad y el tamaño del asteroide\n",
    "# Para probar el código, prueba con varias velocidades y tamaños\n",
    "# Escribe varias expresiones de prueba o combinaciones de expresiones de prueba para determinar qué mensaje se debe enviar a Tierra."
   ]
  },
  {
   "cell_type": "code",
   "execution_count": 23,
   "metadata": {},
   "outputs": [
    {
     "name": "stdout",
     "output_type": "stream",
     "text": [
      "No hay peligro, el asteroide se desintegra en la atmósfera.\n",
      "Nisiquiera lo notarás\n"
     ]
    }
   ],
   "source": [
    "velAsteroide=18 # km/s\n",
    "tamAsteroide=10 # m\n",
    "\n",
    "if velAsteroide>25 or tamAsteroide>=25:\n",
    "    print(\"El asteroide causará daños feos UnU\")\n",
    "    print(\"Pero podrás ver un rayo mientras lo hace xD\")\n",
    "elif tamAsteroide<25 and velAsteroide>20:\n",
    "    print(\"No hay peligro, el asteroide se desintegra en la atmósfera.\")\n",
    "    print(\"podras ver un rayo en el cielo\")\n",
    "elif tamAsteroide<25 and velAsteroide<20:\n",
    "    print(\"No hay peligro, el asteroide se desintegra en la atmósfera.\")\n",
    "    print(\"Nisiquiera lo notarás\")\n",
    "else:\n",
    "    print(\"no ocurrira ni verás nada\")\n"
   ]
  }
 ],
 "metadata": {
  "interpreter": {
   "hash": "8b36a727c81942d1fe2b4319f93a01e8ae7096aaabf08d590282ba5138e9d71f"
  },
  "kernelspec": {
   "display_name": "Python 3.10.2 64-bit",
   "language": "python",
   "name": "python3"
  },
  "language_info": {
   "codemirror_mode": {
    "name": "ipython",
    "version": 3
   },
   "file_extension": ".py",
   "mimetype": "text/x-python",
   "name": "python",
   "nbconvert_exporter": "python",
   "pygments_lexer": "ipython3",
   "version": "3.10.2"
  },
  "orig_nbformat": 4
 },
 "nbformat": 4,
 "nbformat_minor": 2
}
